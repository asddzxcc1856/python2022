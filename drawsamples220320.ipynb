{
 "cells": [
  {
   "cell_type": "markdown",
   "metadata": {},
   "source": [
    "# Draw samples"
   ]
  },
  {
   "cell_type": "markdown",
   "metadata": {},
   "source": [
    "# 1. Change the marker \"x\" to other than \"o,x\"\n",
    "# 2. Add another point using your last ID digit as x1o and second last ID digit as x2o. For example, if your ID is xxx86, add point (8,6) point."
   ]
  },
  {
   "cell_type": "code",
   "execution_count": 11,
   "metadata": {},
   "outputs": [
    {
     "data": {
      "image/png": "[encoded data removed]",
      "text/plain": [
       "<Figure size 432x288 with 1 Axes>"
      ]
     },
     "metadata": {
      "needs_background": "light"
     },
     "output_type": "display_data"
    }
   ],
   "source": [
    "import matplotlib\n",
    "import numpy as np\n",
    "import matplotlib.pyplot as plt\n",
    "%matplotlib inline  \n",
    "x10=[0.4,1.2,1.1,1.9,1.8,1.5,2.6,2.2,3.3,3.0,4.1,4.2,5.6,5]\n",
    "x20=[4.1,1.5,4.8,0.7,2.2,3.8,1.8,4.8,1.0,4.3,1.8,3.1,6.0,1]\n",
    "x1x=[0.7,0.7,1.8,2.6,4.9,4.1,5.4,4.0,4.2,5.3,5.5,5.2,5.8,6.3,6.8,6.2,6.5,6.8,8.6,8.2,8.6,3.3]\n",
    "x2x=[5.9,7.0,6.2,7.7,0.1,4.8,5.7,7.0,8.2,0.7,1.8,4.6,7.1,0.5,1.4,3.4,5.0,6.3,1.2,3.5,5.3,3.1]\n",
    "plt.scatter(x10, x20,marker=\"s\")\n",
    "plt.scatter(x1x, x2x,marker=\"d\")\n",
    "plt.title('x1, x2, y')\n",
    "plt.show()"
   ]
  },
  {
   "cell_type": "code",
   "execution_count": null,
   "metadata": {},
   "outputs": [],
   "source": []
  }
 ],
 "metadata": {
  "celltoolbar": "Tags",
  "kernelspec": {
   "display_name": "Python 3 (ipykernel)",
   "language": "python",
   "name": "python3"
  },
  "language_info": {
   "codemirror_mode": {
    "name": "ipython",
    "version": 3
   },
   "file_extension": ".py",
   "mimetype": "text/x-python",
   "name": "python",
   "nbconvert_exporter": "python",
   "pygments_lexer": "ipython3",
   "version": "3.8.9"
  }
 },
 "nbformat": 4,
 "nbformat_minor": 2
}
