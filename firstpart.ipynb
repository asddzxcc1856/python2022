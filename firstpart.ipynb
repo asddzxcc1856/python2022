{
 "cells": [
  {
   "cell_type": "code",
   "execution_count": 2,
   "id": "95283902",
   "metadata": {},
   "outputs": [
    {
     "data": {
      "text/plain": [
       "'\\n    hello wwwwwwwwwwwwwwwwwwwwwwwwwwwwwwwwwwwwwwwww\\n'"
      ]
     },
     "execution_count": 2,
     "metadata": {},
     "output_type": "execute_result"
    }
   ],
   "source": [
    "\"\"\"\n",
    "    hello wwwwwwwwwwwwwwwwwwwwwwwwwwwwwwwwwwwwwwwww\n",
    "\"\"\""
   ]
  },
  {
   "cell_type": "code",
   "execution_count": 3,
   "id": "7408869a",
   "metadata": {},
   "outputs": [],
   "source": [
    "# python innnnnnnnnnnnnnnnnn"
   ]
  },
  {
   "cell_type": "code",
   "execution_count": 4,
   "id": "a3d093bc",
   "metadata": {},
   "outputs": [],
   "source": [
    "# 1 \n",
    "# 2\n",
    "# 3\n",
    "# 4 \n",
    "# 5"
   ]
  },
  {
   "cell_type": "code",
   "execution_count": 5,
   "id": "c8a9b1a2",
   "metadata": {},
   "outputs": [
    {
     "data": {
      "text/plain": [
       "-1"
      ]
     },
     "execution_count": 5,
     "metadata": {},
     "output_type": "execute_result"
    }
   ],
   "source": [
    "3 - 4"
   ]
  },
  {
   "cell_type": "code",
   "execution_count": 6,
   "id": "98d69b24",
   "metadata": {},
   "outputs": [
    {
     "name": "stdout",
     "output_type": "stream",
     "text": [
      "2.5 50.0 0 200 10000\n"
     ]
    }
   ],
   "source": [
    "a = 3 - 0.5\n",
    "print(a, 100/2, 100%2, 100*2, 100**2)"
   ]
  },
  {
   "cell_type": "code",
   "execution_count": 7,
   "id": "61ec6444",
   "metadata": {},
   "outputs": [
    {
     "name": "stdout",
     "output_type": "stream",
     "text": [
      "a is:  2.5 \n",
      "name is:  Superman\n",
      "enter your name: Jack\n",
      "Jack Superman\n"
     ]
    }
   ],
   "source": [
    "name = \"Superman\"\n",
    "\n",
    "print(\"a is: \", a, \"\\nname is: \", name)\n",
    "\n",
    "yourname = input(\"enter your name: \")\n",
    "\n",
    "print(yourname + \" \" + name)"
   ]
  },
  {
   "cell_type": "code",
   "execution_count": 8,
   "id": "b75e7894",
   "metadata": {},
   "outputs": [
    {
     "data": {
      "text/plain": [
       "0"
      ]
     },
     "execution_count": 8,
     "metadata": {},
     "output_type": "execute_result"
    }
   ],
   "source": [
    "100 & 2"
   ]
  },
  {
   "cell_type": "code",
   "execution_count": 9,
   "id": "b900614f",
   "metadata": {},
   "outputs": [
    {
     "data": {
      "text/plain": [
       "1"
      ]
     },
     "execution_count": 9,
     "metadata": {},
     "output_type": "execute_result"
    }
   ],
   "source": [
    "1 & 1"
   ]
  },
  {
   "cell_type": "code",
   "execution_count": 10,
   "id": "53f5443a",
   "metadata": {},
   "outputs": [
    {
     "data": {
      "text/plain": [
       "3"
      ]
     },
     "execution_count": 10,
     "metadata": {},
     "output_type": "execute_result"
    }
   ],
   "source": [
    "1 | 2"
   ]
  },
  {
   "cell_type": "code",
   "execution_count": 11,
   "id": "e4d9d69e",
   "metadata": {},
   "outputs": [
    {
     "data": {
      "text/plain": [
       "201"
      ]
     },
     "execution_count": 11,
     "metadata": {},
     "output_type": "execute_result"
    }
   ],
   "source": [
    "200 ^ 1"
   ]
  },
  {
   "cell_type": "code",
   "execution_count": 2,
   "id": "84bf1b73",
   "metadata": {},
   "outputs": [
    {
     "data": {
      "text/plain": [
       "220"
      ]
     },
     "execution_count": 2,
     "metadata": {},
     "output_type": "execute_result"
    }
   ],
   "source": [
    "2000 and 220"
   ]
  },
  {
   "cell_type": "code",
   "execution_count": 8,
   "id": "e1450436",
   "metadata": {},
   "outputs": [
    {
     "data": {
      "text/plain": [
       "-2"
      ]
     },
     "execution_count": 8,
     "metadata": {},
     "output_type": "execute_result"
    }
   ],
   "source": [
    "0 or -2"
   ]
  },
  {
   "cell_type": "code",
   "execution_count": 14,
   "id": "d42c2767",
   "metadata": {},
   "outputs": [
    {
     "name": "stdout",
     "output_type": "stream",
     "text": [
      "10 is:  10 10.0 10 10.3 10.3\n",
      "A\n",
      "a 97\n",
      "王 21644 咈\n"
     ]
    }
   ],
   "source": [
    "print(\"10 is: \", 10, float(10), int(10.2), \"10.3\", 10.3)\n",
    "print(chr(65))\n",
    "print('a', ord('a'))\n",
    "print('王', ord('和'), chr(21640))"
   ]
  },
  {
   "cell_type": "code",
   "execution_count": 15,
   "id": "378c4973",
   "metadata": {},
   "outputs": [
    {
     "name": "stdout",
     "output_type": "stream",
     "text": [
      "ࢍ\n"
     ]
    }
   ],
   "source": [
    "print(chr(2189))"
   ]
  },
  {
   "cell_type": "code",
   "execution_count": 16,
   "id": "a0e76e04",
   "metadata": {},
   "outputs": [
    {
     "name": "stdout",
     "output_type": "stream",
     "text": [
      "3.141592653589793\n",
      "['__doc__', '__loader__', '__name__', '__package__', '__spec__', 'acos', 'acosh', 'asin', 'asinh', 'atan', 'atan2', 'atanh', 'ceil', 'comb', 'copysign', 'cos', 'cosh', 'degrees', 'dist', 'e', 'erf', 'erfc', 'exp', 'expm1', 'fabs', 'factorial', 'floor', 'fmod', 'frexp', 'fsum', 'gamma', 'gcd', 'hypot', 'inf', 'isclose', 'isfinite', 'isinf', 'isnan', 'isqrt', 'ldexp', 'lgamma', 'log', 'log10', 'log1p', 'log2', 'modf', 'nan', 'perm', 'pi', 'pow', 'prod', 'radians', 'remainder', 'sin', 'sinh', 'sqrt', 'tan', 'tanh', 'tau', 'trunc']\n",
      "Help on built-in module math:\n",
      "\n",
      "NAME\n",
      "    math\n",
      "\n",
      "DESCRIPTION\n",
      "    This module provides access to the mathematical functions\n",
      "    defined by the C standard.\n",
      "\n",
      "FUNCTIONS\n",
      "    acos(x, /)\n",
      "        Return the arc cosine (measured in radians) of x.\n",
      "    \n",
      "    acosh(x, /)\n",
      "        Return the inverse hyperbolic cosine of x.\n",
      "    \n",
      "    asin(x, /)\n",
      "        Return the arc sine (measured in radians) of x.\n",
      "    \n",
      "    asinh(x, /)\n",
      "        Return the inverse hyperbolic sine of x.\n",
      "    \n",
      "    atan(x, /)\n",
      "        Return the arc tangent (measured in radians) of x.\n",
      "    \n",
      "    atan2(y, x, /)\n",
      "        Return the arc tangent (measured in radians) of y/x.\n",
      "        \n",
      "        Unlike atan(y/x), the signs of both x and y are considered.\n",
      "    \n",
      "    atanh(x, /)\n",
      "        Return the inverse hyperbolic tangent of x.\n",
      "    \n",
      "    ceil(x, /)\n",
      "        Return the ceiling of x as an Integral.\n",
      "        \n",
      "        This is the smallest integer >= x.\n",
      "    \n",
      "    comb(n, k, /)\n",
      "        Number of ways to choose k items from n items without repetition and without order.\n",
      "        \n",
      "        Evaluates to n! / (k! * (n - k)!) when k <= n and evaluates\n",
      "        to zero when k > n.\n",
      "        \n",
      "        Also called the binomial coefficient because it is equivalent\n",
      "        to the coefficient of k-th term in polynomial expansion of the\n",
      "        expression (1 + x)**n.\n",
      "        \n",
      "        Raises TypeError if either of the arguments are not integers.\n",
      "        Raises ValueError if either of the arguments are negative.\n",
      "    \n",
      "    copysign(x, y, /)\n",
      "        Return a float with the magnitude (absolute value) of x but the sign of y.\n",
      "        \n",
      "        On platforms that support signed zeros, copysign(1.0, -0.0)\n",
      "        returns -1.0.\n",
      "    \n",
      "    cos(x, /)\n",
      "        Return the cosine of x (measured in radians).\n",
      "    \n",
      "    cosh(x, /)\n",
      "        Return the hyperbolic cosine of x.\n",
      "    \n",
      "    degrees(x, /)\n",
      "        Convert angle x from radians to degrees.\n",
      "    \n",
      "    dist(p, q, /)\n",
      "        Return the Euclidean distance between two points p and q.\n",
      "        \n",
      "        The points should be specified as sequences (or iterables) of\n",
      "        coordinates.  Both inputs must have the same dimension.\n",
      "        \n",
      "        Roughly equivalent to:\n",
      "            sqrt(sum((px - qx) ** 2.0 for px, qx in zip(p, q)))\n",
      "    \n",
      "    erf(x, /)\n",
      "        Error function at x.\n",
      "    \n",
      "    erfc(x, /)\n",
      "        Complementary error function at x.\n",
      "    \n",
      "    exp(x, /)\n",
      "        Return e raised to the power of x.\n",
      "    \n",
      "    expm1(x, /)\n",
      "        Return exp(x)-1.\n",
      "        \n",
      "        This function avoids the loss of precision involved in the direct evaluation of exp(x)-1 for small x.\n",
      "    \n",
      "    fabs(x, /)\n",
      "        Return the absolute value of the float x.\n",
      "    \n",
      "    factorial(x, /)\n",
      "        Find x!.\n",
      "        \n",
      "        Raise a ValueError if x is negative or non-integral.\n",
      "    \n",
      "    floor(x, /)\n",
      "        Return the floor of x as an Integral.\n",
      "        \n",
      "        This is the largest integer <= x.\n",
      "    \n",
      "    fmod(x, y, /)\n",
      "        Return fmod(x, y), according to platform C.\n",
      "        \n",
      "        x % y may differ.\n",
      "    \n",
      "    frexp(x, /)\n",
      "        Return the mantissa and exponent of x, as pair (m, e).\n",
      "        \n",
      "        m is a float and e is an int, such that x = m * 2.**e.\n",
      "        If x is 0, m and e are both 0.  Else 0.5 <= abs(m) < 1.0.\n",
      "    \n",
      "    fsum(seq, /)\n",
      "        Return an accurate floating point sum of values in the iterable seq.\n",
      "        \n",
      "        Assumes IEEE-754 floating point arithmetic.\n",
      "    \n",
      "    gamma(x, /)\n",
      "        Gamma function at x.\n",
      "    \n",
      "    gcd(x, y, /)\n",
      "        greatest common divisor of x and y\n",
      "    \n",
      "    hypot(...)\n",
      "        hypot(*coordinates) -> value\n",
      "        \n",
      "        Multidimensional Euclidean distance from the origin to a point.\n",
      "        \n",
      "        Roughly equivalent to:\n",
      "            sqrt(sum(x**2 for x in coordinates))\n",
      "        \n",
      "        For a two dimensional point (x, y), gives the hypotenuse\n",
      "        using the Pythagorean theorem:  sqrt(x*x + y*y).\n",
      "        \n",
      "        For example, the hypotenuse of a 3/4/5 right triangle is:\n",
      "        \n",
      "            >>> hypot(3.0, 4.0)\n",
      "            5.0\n",
      "    \n",
      "    isclose(a, b, *, rel_tol=1e-09, abs_tol=0.0)\n",
      "        Determine whether two floating point numbers are close in value.\n",
      "        \n",
      "          rel_tol\n",
      "            maximum difference for being considered \"close\", relative to the\n",
      "            magnitude of the input values\n",
      "          abs_tol\n",
      "            maximum difference for being considered \"close\", regardless of the\n",
      "            magnitude of the input values\n",
      "        \n",
      "        Return True if a is close in value to b, and False otherwise.\n",
      "        \n",
      "        For the values to be considered close, the difference between them\n",
      "        must be smaller than at least one of the tolerances.\n",
      "        \n",
      "        -inf, inf and NaN behave similarly to the IEEE 754 Standard.  That\n",
      "        is, NaN is not close to anything, even itself.  inf and -inf are\n",
      "        only close to themselves.\n",
      "    \n",
      "    isfinite(x, /)\n",
      "        Return True if x is neither an infinity nor a NaN, and False otherwise.\n",
      "    \n",
      "    isinf(x, /)\n",
      "        Return True if x is a positive or negative infinity, and False otherwise.\n",
      "    \n",
      "    isnan(x, /)\n",
      "        Return True if x is a NaN (not a number), and False otherwise.\n",
      "    \n",
      "    isqrt(n, /)\n",
      "        Return the integer part of the square root of the input.\n",
      "    \n",
      "    ldexp(x, i, /)\n",
      "        Return x * (2**i).\n",
      "        \n",
      "        This is essentially the inverse of frexp().\n",
      "    \n",
      "    lgamma(x, /)\n",
      "        Natural logarithm of absolute value of Gamma function at x.\n",
      "    \n",
      "    log(...)\n",
      "        log(x, [base=math.e])\n",
      "        Return the logarithm of x to the given base.\n",
      "        \n",
      "        If the base not specified, returns the natural logarithm (base e) of x.\n",
      "    \n",
      "    log10(x, /)\n",
      "        Return the base 10 logarithm of x.\n",
      "    \n",
      "    log1p(x, /)\n",
      "        Return the natural logarithm of 1+x (base e).\n",
      "        \n",
      "        The result is computed in a way which is accurate for x near zero.\n",
      "    \n",
      "    log2(x, /)\n",
      "        Return the base 2 logarithm of x.\n",
      "    \n",
      "    modf(x, /)\n",
      "        Return the fractional and integer parts of x.\n",
      "        \n",
      "        Both results carry the sign of x and are floats.\n",
      "    \n",
      "    perm(n, k=None, /)\n",
      "        Number of ways to choose k items from n items without repetition and with order.\n",
      "        \n",
      "        Evaluates to n! / (n - k)! when k <= n and evaluates\n",
      "        to zero when k > n.\n",
      "        \n",
      "        If k is not specified or is None, then k defaults to n\n",
      "        and the function returns n!.\n",
      "        \n",
      "        Raises TypeError if either of the arguments are not integers.\n",
      "        Raises ValueError if either of the arguments are negative.\n",
      "    \n",
      "    pow(x, y, /)\n",
      "        Return x**y (x to the power of y).\n",
      "    \n",
      "    prod(iterable, /, *, start=1)\n",
      "        Calculate the product of all the elements in the input iterable.\n",
      "        \n",
      "        The default start value for the product is 1.\n",
      "        \n",
      "        When the iterable is empty, return the start value.  This function is\n",
      "        intended specifically for use with numeric values and may reject\n",
      "        non-numeric types.\n",
      "    \n",
      "    radians(x, /)\n",
      "        Convert angle x from degrees to radians.\n",
      "    \n",
      "    remainder(x, y, /)\n",
      "        Difference between x and the closest integer multiple of y.\n",
      "        \n",
      "        Return x - n*y where n*y is the closest integer multiple of y.\n",
      "        In the case where x is exactly halfway between two multiples of\n",
      "        y, the nearest even value of n is used. The result is always exact.\n",
      "    \n",
      "    sin(x, /)\n",
      "        Return the sine of x (measured in radians).\n",
      "    \n",
      "    sinh(x, /)\n",
      "        Return the hyperbolic sine of x.\n",
      "    \n",
      "    sqrt(x, /)\n",
      "        Return the square root of x.\n",
      "    \n",
      "    tan(x, /)\n",
      "        Return the tangent of x (measured in radians).\n",
      "    \n",
      "    tanh(x, /)\n",
      "        Return the hyperbolic tangent of x.\n",
      "    \n",
      "    trunc(x, /)\n",
      "        Truncates the Real x to the nearest Integral toward 0.\n",
      "        \n",
      "        Uses the __trunc__ magic method.\n",
      "\n",
      "DATA\n",
      "    e = 2.718281828459045\n",
      "    inf = inf\n",
      "    nan = nan\n",
      "    pi = 3.141592653589793\n",
      "    tau = 6.283185307179586\n",
      "\n",
      "FILE\n",
      "    (built-in)\n",
      "\n",
      "\n",
      "None\n"
     ]
    }
   ],
   "source": [
    "#disr \n",
    "import math\n",
    "print(math.pi)\n",
    "print(dir(math))\n",
    "print(help(math))"
   ]
  },
  {
   "cell_type": "code",
   "execution_count": 17,
   "id": "c0bcd889",
   "metadata": {},
   "outputs": [
    {
     "data": {
      "text/plain": [
       "0.5000000000000001"
      ]
     },
     "execution_count": 17,
     "metadata": {},
     "output_type": "execute_result"
    }
   ],
   "source": [
    "math.cos(60 * math.pi / 180)"
   ]
  },
  {
   "cell_type": "code",
   "execution_count": 18,
   "id": "f77e1843",
   "metadata": {},
   "outputs": [
    {
     "name": "stdout",
     "output_type": "stream",
     "text": [
      "  0 a=  2          1 a=  4          2 a=  6        2 "
     ]
    }
   ],
   "source": [
    "a = 0\n",
    "for eachPass in range(3):\n",
    "    a += 2\n",
    "    print(\" \", eachPass, \"a= \", a, end = \"        \")\n",
    "print(eachPass, end=\" \")"
   ]
  },
  {
   "cell_type": "code",
   "execution_count": 19,
   "id": "b350933a",
   "metadata": {},
   "outputs": [
    {
     "name": "stdout",
     "output_type": "stream",
     "text": [
      "eachPass:  3 eachSubPass:  0 eachSubPass:  1 eachPass:  1 eachSubPass:  0 eachSubPass:  1 eachPass:  -1 eachSubPass:  0 eachSubPass:  1 eachPass:  -3 eachSubPass:  0 eachSubPass:  1 eachPass:  -5 eachSubPass:  0 eachSubPass:  1 eachPass:  -7 eachSubPass:  0 eachSubPass:  1 eachPass:  -9 eachSubPass:  0 eachSubPass:  1 eachPass:  -11 eachSubPass:  0 eachSubPass:  1 eachPass:  -13 eachSubPass:  0 eachSubPass:  1 eachPass:  -15 eachSubPass:  0 eachSubPass:  1 eachPass:  -17 eachSubPass:  0 eachSubPass:  1 eachPass:  -19 eachSubPass:  0 eachSubPass:  1 eachPass:  -21 eachSubPass:  0 eachSubPass:  1 eachPass:  -23 eachSubPass:  0 eachSubPass:  1 eachPass:  -25 eachSubPass:  0 eachSubPass:  1 eachPass:  -27 eachSubPass:  0 eachSubPass:  1 eachPass:  -29 eachSubPass:  0 eachSubPass:  1 eachPass:  -31 eachSubPass:  0 eachSubPass:  1 eachPass:  -33 eachSubPass:  0 eachSubPass:  1 eachPass:  -35 eachSubPass:  0 eachSubPass:  1 eachPass:  -37 eachSubPass:  0 eachSubPass:  1 eachPass:  -39 eachSubPass:  0 eachSubPass:  1 eachPass:  -41 eachSubPass:  0 eachSubPass:  1 eachPass:  -43 eachSubPass:  0 eachSubPass:  1 eachPass:  -45 eachSubPass:  0 eachSubPass:  1 eachPass:  -47 eachSubPass:  0 eachSubPass:  1 eachPass:  -49 eachSubPass:  0 eachSubPass:  1 eachPass:  -51 eachSubPass:  0 eachSubPass:  1 eachPass:  -53 eachSubPass:  0 eachSubPass:  1 eachPass:  -55 eachSubPass:  0 eachSubPass:  1 eachPass:  -57 eachSubPass:  0 eachSubPass:  1 eachPass:  -59 eachSubPass:  0 eachSubPass:  1 eachPass:  -61 eachSubPass:  0 eachSubPass:  1 eachPass:  -63 eachSubPass:  0 eachSubPass:  1 eachPass:  -65 eachSubPass:  0 eachSubPass:  1 eachPass:  -67 eachSubPass:  0 eachSubPass:  1 eachPass:  -69 eachSubPass:  0 eachSubPass:  1 eachPass:  -71 eachSubPass:  0 eachSubPass:  1 eachPass:  -73 eachSubPass:  0 eachSubPass:  1 eachPass:  -75 eachSubPass:  0 eachSubPass:  1 eachPass:  -77 eachSubPass:  0 eachSubPass:  1 eachPass:  -79 eachSubPass:  0 eachSubPass:  1 eachPass:  -81 eachSubPass:  0 eachSubPass:  1 eachPass:  -83 eachSubPass:  0 eachSubPass:  1 eachPass:  -85 eachSubPass:  0 eachSubPass:  1 eachPass:  -87 eachSubPass:  0 eachSubPass:  1 eachPass:  -89 eachSubPass:  0 eachSubPass:  1 eachPass:  -91 eachSubPass:  0 eachSubPass:  1 eachPass:  -93 eachSubPass:  0 eachSubPass:  1 eachPass:  -95 eachSubPass:  0 eachSubPass:  1 eachPass:  -97 eachSubPass:  0 eachSubPass:  1 eachPass:  -99 eachSubPass:  0 eachSubPass:  1 eachPass:  -101 eachSubPass:  0 eachSubPass:  1 eachPass:  -103 eachSubPass:  0 eachSubPass:  1 eachPass:  -105 eachSubPass:  0 eachSubPass:  1 eachPass:  -107 eachSubPass:  0 eachSubPass:  1 eachPass:  -109 eachSubPass:  0 eachSubPass:  1 eachPass:  -111 eachSubPass:  0 eachSubPass:  1 eachPass:  -113 eachSubPass:  0 eachSubPass:  1 eachPass:  -115 eachSubPass:  0 eachSubPass:  1 eachPass:  -117 eachSubPass:  0 eachSubPass:  1 eachPass:  -119 eachSubPass:  0 eachSubPass:  1 eachPass:  -121 eachSubPass:  0 eachSubPass:  1 eachPass:  -123 eachSubPass:  0 eachSubPass:  1 eachPass:  -125 eachSubPass:  0 eachSubPass:  1 eachPass:  -127 eachSubPass:  0 eachSubPass:  1 eachPass:  -129 eachSubPass:  0 eachSubPass:  1 eachPass:  -131 eachSubPass:  0 eachSubPass:  1 eachPass:  -133 eachSubPass:  0 eachSubPass:  1 eachPass:  -135 eachSubPass:  0 eachSubPass:  1 eachPass:  -137 eachSubPass:  0 eachSubPass:  1 eachPass:  -139 eachSubPass:  0 eachSubPass:  1 eachPass:  -141 eachSubPass:  0 eachSubPass:  1 eachPass:  -143 eachSubPass:  0 eachSubPass:  1 eachPass:  -145 eachSubPass:  0 eachSubPass:  1 eachPass:  -147 eachSubPass:  0 eachSubPass:  1 eachPass:  -149 eachSubPass:  0 eachSubPass:  1 eachPass:  -151 eachSubPass:  0 eachSubPass:  1 eachPass:  -153 eachSubPass:  0 eachSubPass:  1 eachPass:  -155 eachSubPass:  0 eachSubPass:  1 eachPass:  -157 eachSubPass:  0 eachSubPass:  1 eachPass:  -159 eachSubPass:  0 eachSubPass:  1 eachPass:  -161 eachSubPass:  0 eachSubPass:  1 eachPass:  -163 eachSubPass:  0 eachSubPass:  1 eachPass:  -165 eachSubPass:  0 eachSubPass:  1 eachPass:  -167 eachSubPass:  0 eachSubPass:  1 eachPass:  -169 eachSubPass:  0 eachSubPass:  1 eachPass:  -171 eachSubPass:  0 eachSubPass:  1 eachPass:  -173 eachSubPass:  0 eachSubPass:  1 eachPass:  -175 eachSubPass:  0 eachSubPass:  1 eachPass:  -177 eachSubPass:  0 eachSubPass:  1 eachPass:  -179 eachSubPass:  0 eachSubPass:  1 eachPass:  -181 eachSubPass:  0 eachSubPass:  1 eachPass:  -183 eachSubPass:  0 eachSubPass:  1 eachPass:  -185 eachSubPass:  0 eachSubPass:  1 eachPass:  -187 eachSubPass:  0 eachSubPass:  1 eachPass:  -189 eachSubPass:  0 eachSubPass:  1 eachPass:  -191 eachSubPass:  0 eachSubPass:  1 eachPass:  -193 eachSubPass:  0 eachSubPass:  1 eachPass:  -195 eachSubPass:  0 eachSubPass:  1 eachPass:  -197 eachSubPass:  0 eachSubPass:  1 eachPass:  -199 eachSubPass:  0 eachSubPass:  1 "
     ]
    }
   ],
   "source": [
    "for eachPass in range(3, -200, -2):\n",
    "        print(\"eachPass: \", eachPass, end = \" \" )\n",
    "        for eachSubPass in range(2):\n",
    "            print(\"eachSubPass: \", eachSubPass, end = \" \")"
   ]
  },
  {
   "cell_type": "code",
   "execution_count": 20,
   "id": "51e1e8e6",
   "metadata": {},
   "outputs": [
    {
     "name": "stdout",
     "output_type": "stream",
     "text": [
      ":   100:\n",
      "\n",
      ":  four:\n",
      ":five  :\n",
      "\n"
     ]
    }
   ],
   "source": [
    "print(\":%6d:\" % 100)\n",
    "print(\"\"\"\n",
    ":%6s:\n",
    ":%-6s:\n",
    "\"\"\" % (\"four\", \"five\"))"
   ]
  },
  {
   "cell_type": "code",
   "execution_count": 21,
   "id": "0028bfb2",
   "metadata": {},
   "outputs": [
    {
     "name": "stdout",
     "output_type": "stream",
     "text": [
      ":0.333 :\n"
     ]
    }
   ],
   "source": [
    "a = 1 / 3\n",
    "print(\":%-6.3f:\" % a)\n"
   ]
  },
  {
   "cell_type": "code",
   "execution_count": 22,
   "id": "ab557ec0",
   "metadata": {},
   "outputs": [
    {
     "name": "stdout",
     "output_type": "stream",
     "text": [
      "3\n"
     ]
    }
   ],
   "source": [
    "a = 3\n",
    "if a > 5:\n",
    "    print(5)\n",
    "elif 4 > a and a > 2:\n",
    "    print(a)\n",
    "else:\n",
    "    print(2)"
   ]
  },
  {
   "cell_type": "code",
   "execution_count": 23,
   "id": "2ee07293",
   "metadata": {},
   "outputs": [
    {
     "name": "stdout",
     "output_type": "stream",
     "text": [
      "222"
     ]
    }
   ],
   "source": [
    "import random\n",
    "count = 0\n",
    "while True:\n",
    "    if(random.randint(1,10) < 9):\n",
    "        print(count+2,end = \"\")\n",
    "    else:\n",
    "        break"
   ]
  },
  {
   "cell_type": "code",
   "execution_count": 24,
   "id": "cc67c921",
   "metadata": {},
   "outputs": [
    {
     "name": "stdout",
     "output_type": "stream",
     "text": [
      "145373140482822000255562241495835285045603109225670443678128560424898331454222451611\n"
     ]
    }
   ],
   "source": [
    "print(random.randint(1,2000001000000000000000000000000000000000000000000000000000000000000000000000000000000))"
   ]
  },
  {
   "cell_type": "code",
   "execution_count": 25,
   "id": "baa09a91",
   "metadata": {},
   "outputs": [
    {
     "name": "stdout",
     "output_type": "stream",
     "text": [
      "divide by 0\n"
     ]
    }
   ],
   "source": [
    "a = 0\n",
    "try:\n",
    "    print(1/a)\n",
    "except:\n",
    "    print(\"divide by 0\")\n",
    "    "
   ]
  },
  {
   "cell_type": "code",
   "execution_count": 26,
   "id": "41ae4cfe",
   "metadata": {},
   "outputs": [
    {
     "name": "stdout",
     "output_type": "stream",
     "text": [
      "Help on class list in module builtins:\n",
      "\n",
      "class list(object)\n",
      " |  list(iterable=(), /)\n",
      " |  \n",
      " |  Built-in mutable sequence.\n",
      " |  \n",
      " |  If no argument is given, the constructor creates a new empty list.\n",
      " |  The argument must be an iterable if specified.\n",
      " |  \n",
      " |  Methods defined here:\n",
      " |  \n",
      " |  __add__(self, value, /)\n",
      " |      Return self+value.\n",
      " |  \n",
      " |  __contains__(self, key, /)\n",
      " |      Return key in self.\n",
      " |  \n",
      " |  __delitem__(self, key, /)\n",
      " |      Delete self[key].\n",
      " |  \n",
      " |  __eq__(self, value, /)\n",
      " |      Return self==value.\n",
      " |  \n",
      " |  __ge__(self, value, /)\n",
      " |      Return self>=value.\n",
      " |  \n",
      " |  __getattribute__(self, name, /)\n",
      " |      Return getattr(self, name).\n",
      " |  \n",
      " |  __getitem__(...)\n",
      " |      x.__getitem__(y) <==> x[y]\n",
      " |  \n",
      " |  __gt__(self, value, /)\n",
      " |      Return self>value.\n",
      " |  \n",
      " |  __iadd__(self, value, /)\n",
      " |      Implement self+=value.\n",
      " |  \n",
      " |  __imul__(self, value, /)\n",
      " |      Implement self*=value.\n",
      " |  \n",
      " |  __init__(self, /, *args, **kwargs)\n",
      " |      Initialize self.  See help(type(self)) for accurate signature.\n",
      " |  \n",
      " |  __iter__(self, /)\n",
      " |      Implement iter(self).\n",
      " |  \n",
      " |  __le__(self, value, /)\n",
      " |      Return self<=value.\n",
      " |  \n",
      " |  __len__(self, /)\n",
      " |      Return len(self).\n",
      " |  \n",
      " |  __lt__(self, value, /)\n",
      " |      Return self<value.\n",
      " |  \n",
      " |  __mul__(self, value, /)\n",
      " |      Return self*value.\n",
      " |  \n",
      " |  __ne__(self, value, /)\n",
      " |      Return self!=value.\n",
      " |  \n",
      " |  __repr__(self, /)\n",
      " |      Return repr(self).\n",
      " |  \n",
      " |  __reversed__(self, /)\n",
      " |      Return a reverse iterator over the list.\n",
      " |  \n",
      " |  __rmul__(self, value, /)\n",
      " |      Return value*self.\n",
      " |  \n",
      " |  __setitem__(self, key, value, /)\n",
      " |      Set self[key] to value.\n",
      " |  \n",
      " |  __sizeof__(self, /)\n",
      " |      Return the size of the list in memory, in bytes.\n",
      " |  \n",
      " |  append(self, object, /)\n",
      " |      Append object to the end of the list.\n",
      " |  \n",
      " |  clear(self, /)\n",
      " |      Remove all items from list.\n",
      " |  \n",
      " |  copy(self, /)\n",
      " |      Return a shallow copy of the list.\n",
      " |  \n",
      " |  count(self, value, /)\n",
      " |      Return number of occurrences of value.\n",
      " |  \n",
      " |  extend(self, iterable, /)\n",
      " |      Extend list by appending elements from the iterable.\n",
      " |  \n",
      " |  index(self, value, start=0, stop=9223372036854775807, /)\n",
      " |      Return first index of value.\n",
      " |      \n",
      " |      Raises ValueError if the value is not present.\n",
      " |  \n",
      " |  insert(self, index, object, /)\n",
      " |      Insert object before index.\n",
      " |  \n",
      " |  pop(self, index=-1, /)\n",
      " |      Remove and return item at index (default last).\n",
      " |      \n",
      " |      Raises IndexError if list is empty or index is out of range.\n",
      " |  \n",
      " |  remove(self, value, /)\n",
      " |      Remove first occurrence of value.\n",
      " |      \n",
      " |      Raises ValueError if the value is not present.\n",
      " |  \n",
      " |  reverse(self, /)\n",
      " |      Reverse *IN PLACE*.\n",
      " |  \n",
      " |  sort(self, /, *, key=None, reverse=False)\n",
      " |      Sort the list in ascending order and return None.\n",
      " |      \n",
      " |      The sort is in-place (i.e. the list itself is modified) and stable (i.e. the\n",
      " |      order of two equal elements is maintained).\n",
      " |      \n",
      " |      If a key function is given, apply it once to each list item and sort them,\n",
      " |      ascending or descending, according to their function values.\n",
      " |      \n",
      " |      The reverse flag can be set to sort in descending order.\n",
      " |  \n",
      " |  ----------------------------------------------------------------------\n",
      " |  Static methods defined here:\n",
      " |  \n",
      " |  __new__(*args, **kwargs) from builtins.type\n",
      " |      Create and return a new object.  See help(type) for accurate signature.\n",
      " |  \n",
      " |  ----------------------------------------------------------------------\n",
      " |  Data and other attributes defined here:\n",
      " |  \n",
      " |  __hash__ = None\n",
      "\n"
     ]
    }
   ],
   "source": [
    "\"\"\"\n",
    "    A list\n",
    "    A dictionary\n",
    "\"\"\"\n",
    "\n",
    "help(list)\n",
    "\n"
   ]
  },
  {
   "cell_type": "code",
   "execution_count": 27,
   "id": "52b6072e",
   "metadata": {},
   "outputs": [
    {
     "name": "stdout",
     "output_type": "stream",
     "text": [
      "1:  3 2\n",
      "2:  [2] [1]\n"
     ]
    }
   ],
   "source": [
    "a = [[1,2,3], [\"a\",\"b\",\"c\",\"d\"]]\n",
    "print(\"1: \", a[0][2], a[0][-2])\n",
    "print(\"2: \", a[0][1:2], a[0][:-2])"
   ]
  },
  {
   "cell_type": "code",
   "execution_count": 28,
   "id": "5814340b",
   "metadata": {},
   "outputs": [
    {
     "name": "stdout",
     "output_type": "stream",
     "text": [
      "(2, 4) range(2, 4) [2, 3]\n",
      "2\n",
      "False True\n"
     ]
    }
   ],
   "source": [
    "print((2,4),range(2,4),list(range(2,4)))\n",
    "alist = list(range(2,4))\n",
    "print(len(alist))\n",
    "print(5 in alist, 2 in alist)"
   ]
  },
  {
   "cell_type": "code",
   "execution_count": 29,
   "id": "85c730e9",
   "metadata": {},
   "outputs": [
    {
     "name": "stdout",
     "output_type": "stream",
     "text": [
      "[2, 3]\n",
      "True False\n",
      "True True True False\n"
     ]
    }
   ],
   "source": [
    "alist = [2,3]\n",
    "print(alist)\n",
    "print(alist > [2,2], alist > [3,3])\n",
    "print([2,2] < [2,3], [2,3] < [3,3],[2,3,12] < [3,2], [2,3,3] > [3,2,3])"
   ]
  },
  {
   "cell_type": "code",
   "execution_count": 30,
   "id": "aa406e6b",
   "metadata": {},
   "outputs": [
    {
     "name": "stdout",
     "output_type": "stream",
     "text": [
      "2 3 6 "
     ]
    }
   ],
   "source": [
    "for each in [2,3,6]:\n",
    "    print(each,end = \" \")"
   ]
  },
  {
   "cell_type": "code",
   "execution_count": 31,
   "id": "c73a06b1",
   "metadata": {},
   "outputs": [
    {
     "name": "stdout",
     "output_type": "stream",
     "text": [
      "1: alist blist:  [1, 3] : [2, 4]\n",
      "3: extend  None [1, 3, 2, 4]\n",
      "2: append  None [1, 3, 2, 4, [2, 4]]\n",
      "4: insert  None [1, 3, 999, 2, 4, [2, 4]]\n",
      "5: pop  [2, 4] 3 4\n",
      "6: sort  None [999, 2, 1]\n",
      "Help on built-in function sort:\n",
      "\n",
      "sort(*, key=None, reverse=False) method of builtins.list instance\n",
      "    Sort the list in ascending order and return None.\n",
      "    \n",
      "    The sort is in-place (i.e. the list itself is modified) and stable (i.e. the\n",
      "    order of two equal elements is maintained).\n",
      "    \n",
      "    If a key function is given, apply it once to each list item and sort them,\n",
      "    ascending or descending, according to their function values.\n",
      "    \n",
      "    The reverse flag can be set to sort in descending order.\n",
      "\n"
     ]
    }
   ],
   "source": [
    "alist = [1,3]; blist = [2,4]\n",
    "print(\"1: alist blist: \", alist, \":\", blist)\n",
    "print(\"3: extend \",alist.extend(blist),alist)\n",
    "print(\"2: append \",alist.append(blist),alist)\n",
    "print(\"4: insert \", alist.insert(2,999),alist)\n",
    "print(\"5: pop \", alist.pop(),alist.pop(1), alist.pop(3))\n",
    "print(\"6: sort \", alist.sort(reverse = True), alist)\n",
    "help(alist.sort)"
   ]
  },
  {
   "cell_type": "code",
   "execution_count": 32,
   "id": "9beea9f9",
   "metadata": {},
   "outputs": [
    {
     "name": "stdout",
     "output_type": "stream",
     "text": [
      "alist:  [1, 999] blist:  [1, 999] clist:  [1, 3]\n"
     ]
    }
   ],
   "source": [
    "alist = [1, 3]; blist = alist; clist = []\n",
    "for element in alist:\n",
    "    clist.append(element)\n",
    "blist[1] = 999\n",
    "\n",
    "print(\"alist: \", alist, \"blist: \", blist, \"clist: \", clist)"
   ]
  },
  {
   "cell_type": "code",
   "execution_count": 12,
   "id": "da68b444",
   "metadata": {},
   "outputs": [
    {
     "name": "stdout",
     "output_type": "stream",
     "text": [
      "[0.59250759 0.54217306 0.97484104 0.37271402 0.54661988 0.35717008\n",
      " 0.77316472 0.2536731  0.915845   0.8216644 ]\n"
     ]
    }
   ],
   "source": [
    "import numpy as np\n",
    "import time\n",
    "a = np.random.rand(1000000)\n",
    "b = np.random.rand(1000000)\n",
    "print(a[:10])"
   ]
  },
  {
   "cell_type": "code",
   "execution_count": 13,
   "id": "235bd474",
   "metadata": {},
   "outputs": [
    {
     "name": "stdout",
     "output_type": "stream",
     "text": [
      "Sum is:  249870.18274877022\n",
      "for-loop verswion:451.5094757080078ms\n"
     ]
    }
   ],
   "source": [
    "sum = 0\n",
    "tic = time.time()\n",
    "\n",
    "for i in range(1000000):\n",
    "    sum += a[i] * b[i]\n",
    "    \n",
    "toc = time.time()\n",
    "\n",
    "print(\"Sum is: \",sum)\n",
    "print(\"for-loop verswion:\"+str(1000*(toc - tic)) + \"ms\")"
   ]
  },
  {
   "cell_type": "code",
   "execution_count": 14,
   "id": "65655904",
   "metadata": {},
   "outputs": [
    {
     "name": "stdout",
     "output_type": "stream",
     "text": [
      "Sum is:  249870.1827487691\n",
      "Vectorized version:2.991914749145508ms\n"
     ]
    }
   ],
   "source": [
    "sum = 0\n",
    "tic = time.time()\n",
    "\n",
    "sum = np.dot(a,b)\n",
    "\n",
    "toc = time.time()\n",
    "\n",
    "print(\"Sum is: \", sum)\n",
    "print(\"Vectorized version:\"+str(1000*(toc - tic))+ \"ms\")"
   ]
  },
  {
   "cell_type": "code",
   "execution_count": null,
   "id": "81d9048b",
   "metadata": {},
   "outputs": [],
   "source": []
  }
 ],
 "metadata": {
  "kernelspec": {
   "display_name": "Python 3 (ipykernel)",
   "language": "python",
   "name": "python3"
  },
  "language_info": {
   "codemirror_mode": {
    "name": "ipython",
    "version": 3
   },
   "file_extension": ".py",
   "mimetype": "text/x-python",
   "name": "python",
   "nbconvert_exporter": "python",
   "pygments_lexer": "ipython3",
   "version": "3.8.9"
  }
 },
 "nbformat": 4,
 "nbformat_minor": 5
}
