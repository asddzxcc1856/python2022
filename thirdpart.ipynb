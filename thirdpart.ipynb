{
 "cells": [
  {
   "cell_type": "code",
   "execution_count": 17,
   "id": "f2b9609f",
   "metadata": {},
   "outputs": [],
   "source": [
    "class Student(object):\n",
    "    def __init__(self,name,number):\n",
    "        self.name = name\n",
    "        self.scores = []\n",
    "        for count in range(number):\n",
    "            self.scores.append(0)\n",
    "    def getName(self):\n",
    "        return self.name\n",
    "\n",
    "    def __str__(self):\n",
    "        return \"Name \" + self.name + \"\\nScores: \" + \\\n",
    "               \" \".join(map(str, self.scores))"
   ]
  },
  {
   "cell_type": "code",
   "execution_count": 19,
   "id": "f882b6f3",
   "metadata": {},
   "outputs": [
    {
     "name": "stdout",
     "output_type": "stream",
     "text": [
      "1. s:  Name Jhon\n",
      "Scores: 0 0 0\n",
      "2. s.getName():  Jhon\n",
      "3. slist:  [<__main__.Student object at 0x0000027697F811F0>, <__main__.Student object at 0x0000027697EB18B0>]\n",
      "4. slist[1]:  Name Jphn2\n",
      "Scores: 0 0\n"
     ]
    }
   ],
   "source": [
    "s = Student(\"Jhon\",3)\n",
    "print(\"1. s: \",s)\n",
    "print(\"2. s.getName(): \",s.getName())\n",
    "slist = [s,Student(\"Jphn2\",2)]\n",
    "print(\"3. slist: \",slist)\n",
    "print(\"4. slist[1]: \", slist[1])"
   ]
  },
  {
   "cell_type": "code",
   "execution_count": 14,
   "id": "33f563c6",
   "metadata": {},
   "outputs": [
    {
     "name": "stdout",
     "output_type": "stream",
     "text": [
      "Help on class Student in module __main__:\n",
      "\n",
      "class Student(builtins.object)\n",
      " |  Student(name, number)\n",
      " |  \n",
      " |  Methods defined here:\n",
      " |  \n",
      " |  __init__(self, name, number)\n",
      " |      Initialize self.  See help(type(self)) for accurate signature.\n",
      " |  \n",
      " |  __str__(self)\n",
      " |      Return str(self).\n",
      " |  \n",
      " |  getName(self)\n",
      " |  \n",
      " |  ----------------------------------------------------------------------\n",
      " |  Data descriptors defined here:\n",
      " |  \n",
      " |  __dict__\n",
      " |      dictionary for instance variables (if defined)\n",
      " |  \n",
      " |  __weakref__\n",
      " |      list of weak references to the object (if defined)\n",
      "\n"
     ]
    }
   ],
   "source": [
    "help(Student)"
   ]
  },
  {
   "cell_type": "code",
   "execution_count": null,
   "id": "a7d85f23",
   "metadata": {},
   "outputs": [],
   "source": []
  }
 ],
 "metadata": {
  "kernelspec": {
   "display_name": "Python 3 (ipykernel)",
   "language": "python",
   "name": "python3"
  },
  "language_info": {
   "codemirror_mode": {
    "name": "ipython",
    "version": 3
   },
   "file_extension": ".py",
   "mimetype": "text/x-python",
   "name": "python",
   "nbconvert_exporter": "python",
   "pygments_lexer": "ipython3",
   "version": "3.9.6"
  }
 },
 "nbformat": 4,
 "nbformat_minor": 5
}
