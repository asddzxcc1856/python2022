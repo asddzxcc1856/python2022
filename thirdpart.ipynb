{
 "cells": [
  {
   "cell_type": "code",
   "execution_count": 11,
   "id": "321c9713",
   "metadata": {},
   "outputs": [],
   "source": [
    "class Student(object):\n",
    "    def __init__(self,name,number):\n",
    "        self.name = name\n",
    "        self.scores = []\n",
    "        for count in range(number):\n",
    "            self.scores.append(0)\n",
    "    def getName(self):\n",
    "        return self.name\n",
    "\n",
    "    def __str__(self):\n",
    "        return \"Name \" + self.name + \"\\nScores: \" + \\\n",
    "               \" \".join(map(str, self.scores))"
   ]
  },
  {
   "cell_type": "code",
   "execution_count": 13,
   "id": "e0428cd0",
   "metadata": {},
   "outputs": [
    {
     "name": "stdout",
     "output_type": "stream",
     "text": [
      "1. s:  Name Jhon\n",
      "Scores: 0 0 0\n",
      "2. s.getName():  Jhon\n",
      "3. slist:  [<__main__.Student object at 0x00000276990A24C0>, <__main__.Student object at 0x0000027697E69400>]\n",
      "4. slist[1]:  Name Jhon\n",
      "Scores: 0 0 0\n"
     ]
    }
   ],
   "source": [
    "s = Student(\"Jhon\",3)\n",
    "print(\"1. s: \",s)\n",
    "print(\"2. s.getName(): \",s.getName())\n",
    "slist = [s,Student(\"Jphn2\",2)]\n",
    "print(\"3. slist: \",slist)\n",
    "print(\"4. slist[1]: \", s)"
   ]
  },
  {
   "cell_type": "code",
   "execution_count": null,
   "id": "6d4c9971",
   "metadata": {},
   "outputs": [],
   "source": []
  },
  {
   "cell_type": "code",
   "execution_count": null,
   "id": "9f776214",
   "metadata": {},
   "outputs": [],
   "source": []
  }
 ],
 "metadata": {
  "kernelspec": {
   "display_name": "Python 3 (ipykernel)",
   "language": "python",
   "name": "python3"
  },
  "language_info": {
   "codemirror_mode": {
    "name": "ipython",
    "version": 3
   },
   "file_extension": ".py",
   "mimetype": "text/x-python",
   "name": "python",
   "nbconvert_exporter": "python",
   "pygments_lexer": "ipython3",
   "version": "3.9.6"
  }
 },
 "nbformat": 4,
 "nbformat_minor": 5
}
