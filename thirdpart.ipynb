{
 "cells": [
  {
   "cell_type": "code",
   "execution_count": 17,
   "id": "d75a8ad0",
   "metadata": {},
   "outputs": [],
   "source": [
    "class Student(object):\n",
    "    def __init__(self,name,number):\n",
    "        self.name = name\n",
    "        self.scores = []\n",
    "        for count in range(number):\n",
    "            self.scores.append(0)\n",
    "    def getName(self):\n",
    "        return self.name\n",
    "\n",
    "    def __str__(self):\n",
    "        return \"Name \" + self.name + \"\\nScores: \" + \\\n",
    "               \" \".join(map(str, self.scores))"
   ]
  },
  {
   "cell_type": "code",
   "execution_count": 19,
   "id": "5843a0f0",
   "metadata": {},
   "outputs": [
    {
     "name": "stdout",
     "output_type": "stream",
     "text": [
      "1. s:  Name Jhon\n",
      "Scores: 0 0 0\n",
      "2. s.getName():  Jhon\n",
      "3. slist:  [<__main__.Student object at 0x0000027697F811F0>, <__main__.Student object at 0x0000027697EB18B0>]\n",
      "4. slist[1]:  Name Jphn2\n",
      "Scores: 0 0\n"
     ]
    }
   ],
   "source": [
    "s = Student(\"Jhon\",3)\n",
    "print(\"1. s: \",s)\n",
    "print(\"2. s.getName(): \",s.getName())\n",
    "slist = [s,Student(\"Jphn2\",2)]\n",
    "print(\"3. slist: \",slist)\n",
    "print(\"4. slist[1]: \", slist[1])"
   ]
  },
  {
   "cell_type": "code",
   "execution_count": 21,
   "id": "e7dc2f7a",
   "metadata": {},
   "outputs": [
    {
     "name": "stdout",
     "output_type": "stream",
     "text": [
      "catdoglabel.txt\n"
     ]
    }
   ],
   "source": [
    "filelist = [\"catdoglabel.txt\",\"www.py\"]\n",
    "for filename in filelist:\n",
    "    if \".txt\" in filename:\n",
    "        print(filename)"
   ]
  },
  {
   "cell_type": "code",
   "execution_count": 22,
   "id": "54200d8b",
   "metadata": {},
   "outputs": [
    {
     "name": "stdout",
     "output_type": "stream",
     "text": [
      "1:  10\n",
      "2:  None\n"
     ]
    }
   ],
   "source": [
    "f = open(\"catdoglabel.txt\", 'w')\n",
    "print(\"1: \", f.write(\"cat.jpg\" + \" \" + str(1) + \"\\n\"))\n",
    "print(\"2: \", f.close())\n",
    "#help(open)\n",
    "\n"
   ]
  },
  {
   "cell_type": "code",
   "execution_count": 24,
   "id": "bd1f2f47",
   "metadata": {},
   "outputs": [
    {
     "name": "stdout",
     "output_type": "stream",
     "text": [
      "1:  .\n",
      "2:  ['.ipynb_checkpoints', 'ain.py', 'ain1.py', 'catdoglabel.txt', 'kerasenv', 'Untitled.ipynb']\n",
      "3:  [1647223033.4281354, 1647222965.4262497, 1647223057.3877957, 1647223139.8171723]\n"
     ]
    }
   ],
   "source": [
    "import os\n",
    "print(\"1: \", os.curdir)\n",
    "print(\"2: \", os.listdir( os.curdir))\n",
    "files = filter(os.path.isfile, os.listdir( os.curdir))\n",
    "print(\"3: \", list(map(os.path.getmtime, files)))"
   ]
  },
  {
   "cell_type": "code",
   "execution_count": 25,
   "id": "3771fb0d",
   "metadata": {},
   "outputs": [
    {
     "name": "stdout",
     "output_type": "stream",
     "text": [
      "<_io.TextIOWrapper name='catdoglabel.txt' mode='r' encoding='cp950'>\n",
      "1:  cat.jpg 1\n",
      " :\n",
      "2:  ['cat.jpg', '1'] :\n"
     ]
    }
   ],
   "source": [
    "f = open(\"catdoglabel.txt\", 'r')\n",
    "print(f)\n",
    "for line in f:\n",
    "    print(\"1: \", line , \":\")\n",
    "    words = line.split()\n",
    "    print(\"2: \", words, \":\")\n"
   ]
  },
  {
   "cell_type": "code",
   "execution_count": null,
   "id": "35dea9a9",
   "metadata": {},
   "outputs": [],
   "source": []
  }
 ],
 "metadata": {
  "kernelspec": {
   "display_name": "Python 3 (ipykernel)",
   "language": "python",
   "name": "python3"
  },
  "language_info": {
   "codemirror_mode": {
    "name": "ipython",
    "version": 3
   },
   "file_extension": ".py",
   "mimetype": "text/x-python",
   "name": "python",
   "nbconvert_exporter": "python",
   "pygments_lexer": "ipython3",
   "version": "3.9.6"
  }
 },
 "nbformat": 4,
 "nbformat_minor": 5
}
