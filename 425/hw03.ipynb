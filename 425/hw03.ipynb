{
 "cells": [
  {
   "cell_type": "code",
   "execution_count": 1,
   "id": "b2c4fd9e",
   "metadata": {},
   "outputs": [
    {
     "name": "stdout",
     "output_type": "stream",
     "text": [
      "float64 int64\n",
      "np.shape(X/Y): (2, 211) (1, 211) np.shape(X/Ytest): (2, 200)\n"
     ]
    },
    {
     "data": {
      "image/png": "[encoded data removed]",
      "text/plain": [
       "<Figure size 432x288 with 1 Axes>"
      ]
     },
     "metadata": {
      "needs_background": "light"
     },
     "output_type": "display_data"
    }
   ],
   "source": [
    "import time\n",
    "import scipy.io\n",
    "data = scipy.io.loadmat('datasets/data.mat')\n",
    "X1 = data['X'].T; Y1 = data['y'].T\n",
    "import numpy as np\n",
    "import matplotlib\n",
    "import matplotlib.pyplot as plt\n",
    "import sklearn\n",
    "import sklearn.datasets\n",
    "%matplotlib inline\n",
    "\n",
    "n0 = 2 # layer 0\n",
    "n1 = 20 # layer 1\n",
    "n2 = 3 # layer 2\n",
    "n3 = 1 # layer 3\n",
    "m = 300 # layer 4\n",
    "alpha = 0.01 # learning rate\n",
    "\n",
    "np.random.seed(3)\n",
    "#train_X, train_Y = sklearn.datasets.make_circles(n_samples = 300, noise = .05)\n",
    "#test_X, test_Y = sklearn.datasets.make_circles(n_samples = 60, noise = .05)\n",
    "#A0 = train_X.T; Y = train_Y.reshape(1,300)\n",
    "#A0test = test_X.T; Ytest = test_Y.reshape(1,60)\n",
    "#print(\"np.shape(Y):\",np.shape(Y),\"np.shape(A0):\",np.shape(A0))\n",
    "X = X1; Y = np.int64(Y1)\n",
    "print(X.dtype, Y.dtype)\n",
    "Xtest = data['Xval'].T; Ytest = data['yval'].T\n",
    "\n",
    "print(\"np.shape(X/Y):\",np.shape(X),np.shape(Y),\"np.shape(X/Ytest):\",np.shape(Xtest))\n",
    "\n",
    "for i in range(np.shape(X)[1]):\n",
    "    if(Y[0][i] < 0.5):\n",
    "        plt.scatter(X[0][i], X[1][i], c = \"blue\", marker = \"o\")\n",
    "    else:\n",
    "        plt.scatter(X[0][i], X[1][i], c = \"purple\", marker = \"x\")\n",
    "for i in range(np.shape(Xtest)[1]):\n",
    "    if(Ytest[0][i] < 0.5):\n",
    "        plt.scatter(Xtest[0][i], Xtest[1][i], c = \"green\", marker = \"o\")\n",
    "    else:\n",
    "        plt.scatter(Xtest[0][i], Xtest[1][i], c = \"red\", marker = \"x\")\n",
    "        \n",
    "plt.title('x1, x2, y')\n",
    "plt.show()"
   ]
  },
  {
   "cell_type": "code",
   "execution_count": null,
   "id": "1fd2201e",
   "metadata": {},
   "outputs": [],
   "source": []
  },
  {
   "cell_type": "code",
   "execution_count": 2,
   "id": "9c832942",
   "metadata": {},
   "outputs": [],
   "source": [
    "def forwardprop(X, parameters):\n",
    "    A0 = X\n",
    "    WT1 = parameters[\"WT1\"];\n",
    "    WT2 = parameters[\"WT2\"];\n",
    "    WT3 = parameters[\"WT3\"];\n",
    "    b1 = parameters[\"b1\"];\n",
    "    b2 = parameters[\"b2\"];\n",
    "    b3 = parameters[\"b3\"];\n",
    "    Z1 = np.dot(WT1,A0) + b1\n",
    "    A1 = np.maximum(0,Z1)\n",
    "    Z2 = np.dot(WT2,A1) + b2\n",
    "    A2 = np.maximum(0,Z2)\n",
    "    Z3 = np.dot(WT3,A2) + b3;\n",
    "    A3 = 1/(1 + np.exp(-Z3))\n",
    "    cache = (Z1,A1,WT1,b1,Z2,A2,WT2,b2,Z3,A3,WT3,b3)\n",
    "    return A3, cache"
   ]
  },
  {
   "cell_type": "code",
   "execution_count": 3,
   "id": "38a2995a",
   "metadata": {},
   "outputs": [],
   "source": [
    "def forwardprop_dropout(X, parameters, keep_prob = 1):\n",
    "    np.random.seed(1)\n",
    "    A0 = X\n",
    "    WT1 = parameters[\"WT1\"];\n",
    "    WT2 = parameters[\"WT2\"];\n",
    "    WT3 = parameters[\"WT3\"];\n",
    "    b1 = parameters[\"b1\"];\n",
    "    b2 = parameters[\"b2\"];\n",
    "    b3 = parameters[\"b3\"];\n",
    "    \n",
    "    Z1 = np.dot(WT1,A0) + b1\n",
    "    A1 = np.maximum(0,Z1)\n",
    "    D1 = np.random.rand(A1.shape[0],A1.shape[1])\n",
    "    D1 = (D1 < keep_prob).astype(int)\n",
    "    A1 = A1 * D1\n",
    "    A1 = A1 / keep_prob\n",
    "    \n",
    "    Z2 = np.dot(WT2,A1) + b2\n",
    "    A2 = np.maximum(0,Z2)\n",
    "    D2 = np.random.rand(A2.shape[0],A2.shape[1])\n",
    "    D2 = (D2 < keep_prob).astype(int)\n",
    "    A2 = A2 * D2\n",
    "    A2 = A2 / keep_prob\n",
    "    \n",
    "    Z3 = np.dot(WT3,A2) + b3;\n",
    "    A3 = 1/(1 + np.exp(-Z3))\n",
    "    cache = (Z1,D1,A1,WT1,b1,Z2,D2,A2,WT2,b2,Z3,A3,WT3,b3)\n",
    "    return A3, cache\n",
    "    "
   ]
  },
  {
   "cell_type": "code",
   "execution_count": 4,
   "id": "30b17dec",
   "metadata": {},
   "outputs": [],
   "source": [
    "def backwardprop(X, Y, cache):\n",
    "    (Z1,A1,WT1,b1,Z2,A2,WT2,b2,Z3,A3,WT3,b3) = cache\n",
    "    m = X.shape[1]\n",
    "    dZ3 = A3 - Y\n",
    "    dWT3 = 1 / m * np.dot(dZ3,A2.T)\n",
    "    db3 = 1 / m * np.sum(dZ3,axis = 1, keepdims = True)\n",
    "    dA2 = np.dot(WT3.T,dZ3)\n",
    "    dZ2 = np.multiply(dA2, np.int64(A2 > 0))\n",
    "    dWT2 = 1 / m * np.dot(dZ2,A1.T)\n",
    "    db2 = 1 / m * np.sum(dZ2, axis = 1, keepdims = True)\n",
    "    dA1 = np.dot(WT2.T,dZ2)\n",
    "    dZ1 = np.multiply(dA1, np.int64(A1 > 0))\n",
    "    dWT1 = 1 / m * np.dot(dZ1,X.T)\n",
    "    db1 = 1 / m * np.sum(dZ1, axis = 1, keepdims = True)\n",
    "    gradients = {\"dZ3\": dZ3, \"dWT3\": dWT3, \"db3\": db3, \n",
    "                 \"dA2\": dA2,\"dZ2\": dZ2, \"dWT2\": dWT2, \"db2\": db2,\n",
    "                 \"dA1\": dA1,\"dZ1\": dZ1, \"dWT1\": dWT1, \"db1\": db1}\n",
    "    return gradients"
   ]
  },
  {
   "cell_type": "code",
   "execution_count": 5,
   "id": "38117eae",
   "metadata": {},
   "outputs": [],
   "source": [
    "def backwardprop_L2regular(X, Y, cache,lambd):\n",
    "    (Z1,A1,WT1,b1,Z2,A2,WT2,b2,Z3,A3,WT3,b3) = cache\n",
    "    m = X.shape[1]\n",
    "    dZ3 = A3 - Y\n",
    "    dWT3 = 1 / m * np.dot(dZ3,A2.T) + lambd / m * WT3\n",
    "    db3 = 1 / m * np.sum(dZ3,axis = 1, keepdims = True)\n",
    "    dA2 = np.dot(WT3.T,dZ3)\n",
    "    dZ2 = np.multiply(dA2, np.int64(A2 > 0))\n",
    "    dWT2 = 1 / m * np.dot(dZ2,A1.T) + lambd / m * WT2\n",
    "    db2 = 1 / m * np.sum(dZ2, axis = 1, keepdims = True)\n",
    "    dA1 = np.dot(WT2.T,dZ2)\n",
    "    dZ1 = np.multiply(dA1, np.int64(A1 > 0))\n",
    "    dWT1 = 1 / m * np.dot(dZ1,X.T) + lambd / m * WT1\n",
    "    db1 = 1 / m * np.sum(dZ1, axis = 1, keepdims = True)\n",
    "    gradients = {\"dZ3\": dZ3, \"dWT3\": dWT3, \"db3\": db3, \n",
    "                 \"dA2\": dA2,\"dZ2\": dZ2, \"dWT2\": dWT2, \"db2\": db2,\n",
    "                 \"dA1\": dA1,\"dZ1\": dZ1, \"dWT1\": dWT1, \"db1\": db1}\n",
    "    return gradients"
   ]
  },
  {
   "cell_type": "code",
   "execution_count": 6,
   "id": "8a5ca4f4",
   "metadata": {},
   "outputs": [],
   "source": [
    "def backwardprop_dropout(X, Y, cache, keep_prob):\n",
    "    (Z1,D1,A1,WT1,b1,Z2,D2,A2,WT2,b2,Z3,A3,WT3,b3) = cache\n",
    "    m = X.shape[1]\n",
    "    dZ3 = A3 - Y\n",
    "    dWT3 = 1 / m * np.dot(dZ3,A2.T)\n",
    "    db3 = 1 / m * np.sum(dZ3,axis = 1, keepdims = True)\n",
    "    dA2 = np.dot(WT3.T,dZ3)\n",
    "    dA2 = dA2 * D2\n",
    "    dA2 = dA2 / keep_prob\n",
    "    dZ2 = np.multiply(dA2, np.int64(A2 > 0))\n",
    "    dWT2 = 1 / m * np.dot(dZ2,A1.T)\n",
    "    db2 = 1 / m * np.sum(dZ2, axis = 1, keepdims = True)\n",
    "    dA1 = np.dot(WT2.T,dZ2)\n",
    "    dA1 = dA1 * D1\n",
    "    dA1 = dA1 / keep_prob\n",
    "    dZ1 = np.multiply(dA1, np.int64(A1 > 0))\n",
    "    dWT1 = 1 / m * np.dot(dZ1,X.T)\n",
    "    db1 = 1 / m * np.sum(dZ1, axis = 1, keepdims = True)\n",
    "    gradients = {\"dZ3\": dZ3, \"dWT3\": dWT3, \"db3\": db3, \n",
    "                 \"dA2\": dA2,\"dZ2\": dZ2, \"dWT2\": dWT2, \"db2\": db2,\n",
    "                 \"dA1\": dA1,\"dZ1\": dZ1, \"dWT1\": dWT1, \"db1\": db1}\n",
    "    return gradients"
   ]
  },
  {
   "cell_type": "code",
   "execution_count": 7,
   "id": "60c5fa8c",
   "metadata": {},
   "outputs": [],
   "source": [
    "def model(X,Y,Xtest,Ytest,learning_rate = 0.3, lambd = 0, keep_prob = 1, num_iterations = 30000):\n",
    "    assert(lambd == 0 or keep_prob == 1)\n",
    "    tic = time.time()\n",
    "    np.random.seed(3)\n",
    "    parameters = {}\n",
    "    parameters['WT1'] = np.random.randn(n1,n0) * np.sqrt(1./n0)\n",
    "    parameters['b1'] = np.zeros((n1,1))\n",
    "    parameters['WT2'] = np.random.randn(n2,n1) * np.sqrt(1./n1)\n",
    "    parameters['b2'] = np.zeros((n2,1))\n",
    "    parameters['WT3'] = np.random.randn(n3,n2) * np.sqrt(1./n2)\n",
    "    parameters['b3'] = np.zeros((n3,1))\n",
    "    for itera in range(num_iterations):\n",
    "        if keep_prob == 1:\n",
    "            A3,cache = forwardprop(X, parameters)\n",
    "            (Z1,A1,WT1,b1,Z2,A2,WT2,b2,Z3,A3,WT3,b3) = cache\n",
    "        elif keep_prob < 1:\n",
    "            A3,cache = forwardprop_dropout(X, parameters, keep_prob)\n",
    "            (Z1,D1,A1,WT1,b1,Z2,D2,A2,WT2,b2,Z3,A3,WT3,b3) = cache\n",
    "        if lambd == 0 and keep_prob == 1:\n",
    "            grads = backwardprop(X, Y, cache)\n",
    "        elif lambd != 0:\n",
    "            grads = backwardprop_L2regular(X, Y, cache,lambd)\n",
    "        elif keep_prob < 1:\n",
    "            grads = backwardprop_dropout(X, Y, cache, keep_prob)\n",
    "        if itera % 1000 == 0:\n",
    "            cost = -1/np.shape(X)[1] * np.nansum((Y * np.log(A3) + (1 - Y)* np.log(1 - A3)),axis = 1,keepdims = True)\n",
    "            \n",
    "            if lambd != 0:\n",
    "                L2_reg_cost = 1 / np.shape(X)[1] * lambd / 2 * (np.sum(np.square(WT1)) + np.sum(np.square(WT2)) + np.sum(np.square(WT2)))\n",
    "                cost += L2_reg_cost\n",
    "            p = np.zeros((1,A3.shape[1]), dtype = np.int64)\n",
    "            for i in range(0, A3.shape[1]):\n",
    "                if A3[0,i] > 0.5: p[0,i] = 1\n",
    "                else: p[0,i] = 0\n",
    "            accuracy = np.mean((p[0,:] == Y[0,:]))\n",
    "            A3test, cache = forwardprop(Xtest,parameters)\n",
    "            costtest = -1/np.shape(Xtest)[1] * np.nansum((Ytest * np.log(A3test) + (1 - Ytest)* np.log(1 - A3test)),axis = 1,keepdims = True)\n",
    "            if lambd != 0:\n",
    "                L2_reg_cost = 1 / np.shape(Xtest)[1] * lambd / 2 * (np.sum(np.square(WT1)) + np.sum(np.square(WT2)) + np.sum(np.square(WT2)))\n",
    "                costtest += L2_reg_cost\n",
    "            p = np.zeros((1,A3test.shape[1]), dtype = np.int64)\n",
    "            for i in range(0, A3test.shape[1]):\n",
    "                if A3test[0,i] > 0.5: p[0,i] = 1\n",
    "                else: p[0,i] = 0\n",
    "            accuracytest = np.mean((p[0,:] == Ytest[0,:]))\n",
    "            plt.scatter(itera, cost, c = \"green\", marker = '.')\n",
    "            plt.scatter(itera, costtest, c= \"red\", marker = '.')\n",
    "            print(\"itera \",itera,\"cost \", cost,\"accuracy {:4.4}\".format(accuracy),\"costtest \",costtest,\"accuracytest {:4.4}\".format(accuracytest))\n",
    "        parameters['WT1'] = parameters['WT1'] - learning_rate * grads['dWT1']\n",
    "        parameters['WT2'] = parameters['WT2'] - learning_rate * grads['dWT2']\n",
    "        parameters['WT3'] = parameters['WT3'] - learning_rate * grads['dWT3']\n",
    "        parameters['b1'] = parameters['b1'] - learning_rate * grads['db1']\n",
    "        parameters['b2'] = parameters['b2'] - learning_rate * grads['db2']\n",
    "        parameters['b3'] = parameters['b3'] - learning_rate * grads['db3']\n",
    "    toc = time.time()\n",
    "    print(\"relu version:\" + str((toc - tic)) + \"s\")\n",
    "    plt.title(\"itera, costtrain:green, costest:red\")\n",
    "    plt.show()\n",
    "    return parameters"
   ]
  },
  {
   "cell_type": "code",
   "execution_count": 8,
   "id": "6e61c103",
   "metadata": {},
   "outputs": [
    {
     "name": "stdout",
     "output_type": "stream",
     "text": [
      "itera  0 cost  [[0.65574125]] accuracy 0.6256 costtest  [[0.63874083]] accuracytest 0.65\n",
      "itera  1000 cost  [[0.22226694]] accuracy 0.9289 costtest  [[0.29962048]] accuracytest 0.935\n",
      "itera  2000 cost  [[0.20288703]] accuracy 0.9384 costtest  [[0.28591426]] accuracytest 0.935\n",
      "itera  3000 cost  [[0.18251498]] accuracy 0.9384 costtest  [[0.27026749]] accuracytest 0.945\n",
      "itera  4000 cost  [[0.18053978]] accuracy 0.9289 costtest  [[0.27270239]] accuracytest 0.94\n",
      "itera  5000 cost  [[0.17620472]] accuracy 0.9289 costtest  [[0.28809837]] accuracytest 0.93\n",
      "itera  6000 cost  [[0.1683273]] accuracy 0.9384 costtest  [[0.30123293]] accuracytest 0.935\n",
      "itera  7000 cost  [[0.16583594]] accuracy 0.9336 costtest  [[0.31469315]] accuracytest 0.94\n",
      "itera  8000 cost  [[0.16312672]] accuracy 0.9336 costtest  [[0.33153835]] accuracytest 0.93\n",
      "itera  9000 cost  [[0.15942612]] accuracy 0.9336 costtest  [[0.33980957]] accuracytest 0.935\n",
      "itera  10000 cost  [[0.16329988]] accuracy 0.9242 costtest  [[0.35581969]] accuracytest 0.93\n",
      "itera  11000 cost  [[0.16098614]] accuracy 0.9289 costtest  [[0.36555944]] accuracytest 0.93\n",
      "itera  12000 cost  [[0.15764474]] accuracy 0.9194 costtest  [[0.3701544]] accuracytest 0.93\n",
      "itera  13000 cost  [[0.152136]] accuracy 0.9289 costtest  [[0.37385555]] accuracytest 0.93\n",
      "itera  14000 cost  [[0.14843714]] accuracy 0.9289 costtest  [[0.38113521]] accuracytest 0.93\n",
      "itera  15000 cost  [[0.14796401]] accuracy 0.9289 costtest  [[0.38920569]] accuracytest 0.925\n",
      "itera  16000 cost  [[0.14634876]] accuracy 0.9289 costtest  [[0.40237007]] accuracytest 0.92\n",
      "itera  17000 cost  [[0.14634376]] accuracy 0.9289 costtest  [[0.41293208]] accuracytest 0.915\n",
      "itera  18000 cost  [[0.14335089]] accuracy 0.9289 costtest  [[0.42346638]] accuracytest 0.915\n",
      "itera  19000 cost  [[0.13936488]] accuracy 0.9384 costtest  [[0.42580531]] accuracytest 0.935\n",
      "itera  20000 cost  [[0.13851642]] accuracy 0.9289 costtest  [[0.43018626]] accuracytest 0.92\n",
      "itera  21000 cost  [[0.14118678]] accuracy 0.9336 costtest  [[0.44687266]] accuracytest 0.915\n",
      "itera  22000 cost  [[0.13629319]] accuracy 0.9336 costtest  [[0.45071436]] accuracytest 0.915\n",
      "itera  23000 cost  [[0.1315186]] accuracy 0.9384 costtest  [[0.45425856]] accuracytest 0.92\n",
      "itera  24000 cost  [[0.13032326]] accuracy 0.9384 costtest  [[0.46141877]] accuracytest 0.92\n",
      "itera  25000 cost  [[0.1328537]] accuracy 0.9431 costtest  [[0.47681373]] accuracytest 0.915\n",
      "itera  26000 cost  [[0.12814813]] accuracy 0.9479 costtest  [[0.47741166]] accuracytest 0.915\n",
      "itera  27000 cost  [[0.13263847]] accuracy 0.9431 costtest  [[0.48716947]] accuracytest 0.915\n",
      "itera  28000 cost  [[0.12678385]] accuracy 0.9526 costtest  [[0.49197297]] accuracytest 0.915\n",
      "itera  29000 cost  [[0.12408776]] accuracy 0.9526 costtest  [[0.48962608]] accuracytest 0.915\n",
      "relu version:7.793426036834717s\n"
     ]
    },
    {
     "data": {
      "image/png": "[encoded data removed]",
      "text/plain": [
       "<Figure size 432x288 with 1 Axes>"
      ]
     },
     "metadata": {
      "needs_background": "light"
     },
     "output_type": "display_data"
    }
   ],
   "source": [
    "parameters = model(X,Y,Xtest,Ytest,0.3,lambd = 0,keep_prob = 1,num_iterations = 30000)"
   ]
  },
  {
   "cell_type": "code",
   "execution_count": null,
   "id": "544045aa",
   "metadata": {
    "scrolled": true
   },
   "outputs": [
    {
     "name": "stdout",
     "output_type": "stream",
     "text": [
      "A3  [[1.         1.         1.         ... 0.02242956 0.02242956 0.02242956]]\n"
     ]
    }
   ],
   "source": [
    "A0 = np.zeros((n0,6400))\n",
    "for i in range(60):\n",
    "    for j in range(80):\n",
    "        A0[0][i * 79 + j] = i * 0.025 - 1\n",
    "        A0[1][i * 79 + j] = j * 0.025 - 1\n",
    "A3, cache = forwardprop(A0,parameters)\n",
    "print(\"A3 \",A3)\n",
    "for i in range(60):\n",
    "    for j in range(80):\n",
    "        if(A3[0][i * 79 + j] > 0.5):\n",
    "            plt.scatter(A0[0][i * 79 + j],A0[1][i * 79 + j], c = \"red\", marker = \".\")\n",
    "        else:\n",
    "            plt.scatter(A0[0][i * 79 + j],A0[1][i * 79 + j], c = \"green\", marker = \".\")\n",
    "A0 = X\n",
    "for i in range(0,A0.shape[1] - 1):\n",
    "    if(Y[0][i] < 0.5):\n",
    "        plt.scatter(A0[0][i],A0[1][i], c = \"blue\", marker = \"o\");\n",
    "    else:\n",
    "        plt.scatter(A0[0][i],A0[1][i], c = \"purple\", marker = \"x\");\n",
    "plt.title(\"xx, xy, y\")\n",
    "plt.show()"
   ]
  },
  {
   "cell_type": "code",
   "execution_count": null,
   "id": "987b35d1",
   "metadata": {},
   "outputs": [],
   "source": []
  }
 ],
 "metadata": {
  "kernelspec": {
   "display_name": "Python 3 (ipykernel)",
   "language": "python",
   "name": "python3"
  },
  "language_info": {
   "codemirror_mode": {
    "name": "ipython",
    "version": 3
   },
   "file_extension": ".py",
   "mimetype": "text/x-python",
   "name": "python",
   "nbconvert_exporter": "python",
   "pygments_lexer": "ipython3",
   "version": "3.8.9"
  }
 },
 "nbformat": 4,
 "nbformat_minor": 5
}
