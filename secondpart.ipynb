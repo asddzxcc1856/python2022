{
 "cells": [
  {
   "cell_type": "code",
   "execution_count": 12,
   "id": "5f08fe86",
   "metadata": {},
   "outputs": [
    {
     "ename": "SyntaxError",
     "evalue": "cannot assign to function call (2190791739.py, line 3)",
     "output_type": "error",
     "traceback": [
      "\u001b[1;36m  Input \u001b[1;32mIn [12]\u001b[1;36m\u001b[0m\n\u001b[1;33m    atuple(1) = 2\u001b[0m\n\u001b[1;37m    ^\u001b[0m\n\u001b[1;31mSyntaxError\u001b[0m\u001b[1;31m:\u001b[0m cannot assign to function call\n"
     ]
    }
   ],
   "source": [
    "atuple = (1,3)\n",
    "print(atuple[1])\n",
    "atuple(1) = 2"
   ]
  },
  {
   "cell_type": "code",
   "execution_count": 33,
   "id": "406888d1",
   "metadata": {},
   "outputs": [
    {
     "name": "stdout",
     "output_type": "stream",
     "text": [
      "1:  a b\n",
      "2:  b\n",
      "3:  b\n",
      "a\n"
     ]
    }
   ],
   "source": [
    "adict = {3 : \"a\", \"5\" : \"b\"}\n",
    "print(\"1: \", adict[3], adict[\"5\"])\n",
    "if(\"5\" in adict):\n",
    "    print(\"2: \", adict[\"5\"])\n",
    "print(\"3: \", adict.get(\"5\", None))\n",
    "print(adict[3])"
   ]
  },
  {
   "cell_type": "code",
   "execution_count": 42,
   "id": "fef16cbb",
   "metadata": {},
   "outputs": [
    {
     "name": "stdout",
     "output_type": "stream",
     "text": [
      "1:  {'a': 'aa', 3: 'bb'}\n",
      "2:  a : aa 2:  3 : bb  \n",
      "3:  ['a', 3]\n",
      "4:  a : aa 4:  3 : bb \n",
      "5:  None\n",
      "6:  bb\n",
      "7:  {'a': 'aa'}\n"
     ]
    }
   ],
   "source": [
    "adict = {}\n",
    "adict[\"a\"] = \"aa\"; adict[3] = \"bb\"\n",
    "print(\"1: \", adict)\n",
    "for key in adict:\n",
    "    print(\"2: \", key, \":\", adict[key], end = \" \")\n",
    "print(\" \\n3: \", list(adict))\n",
    "for (key, value) in adict.items():\n",
    "    print(\"4: \", key, \":\", value, end = \" \")\n",
    "print(\"\\n5: \", adict.pop(\"b\",None))\n",
    "print(\"6: \", adict.pop(3,None)); print(\"7: \", adict)"
   ]
  },
  {
   "cell_type": "code",
   "execution_count": 50,
   "id": "1613965e",
   "metadata": {},
   "outputs": [
    {
     "name": "stdout",
     "output_type": "stream",
     "text": [
      "6\n"
     ]
    }
   ],
   "source": [
    "def twice(x):\n",
    "    \"\"\"\n",
    "    Obtain the double of input\n",
    "    \"\"\"\n",
    "    2+3\n",
    "    return x + x\n",
    "\n",
    "print(twice(3))"
   ]
  },
  {
   "cell_type": "code",
   "execution_count": 52,
   "id": "e9103d47",
   "metadata": {},
   "outputs": [],
   "source": [
    "def main():\n",
    "    \"\"\"execute\"\"\"\n",
    "    print(help(twice))\n",
    "    print(\"From main\",twice(3))    "
   ]
  },
  {
   "cell_type": "code",
   "execution_count": 63,
   "id": "163f10ca",
   "metadata": {},
   "outputs": [
    {
     "name": "stdout",
     "output_type": "stream",
     "text": [
      "Help on function twice in module __main__:\n",
      "\n",
      "twice(x)\n",
      "    Obtain the double of input\n",
      "\n",
      "None\n",
      "From main 6\n"
     ]
    },
    {
     "ename": "AttributeError",
     "evalue": "module 'test' has no attribute 'times4'",
     "output_type": "error",
     "traceback": [
      "\u001b[1;31m---------------------------------------------------------------------------\u001b[0m",
      "\u001b[1;31mAttributeError\u001b[0m                            Traceback (most recent call last)",
      "Input \u001b[1;32mIn [63]\u001b[0m, in \u001b[0;36m<cell line: 1>\u001b[1;34m()\u001b[0m\n\u001b[0;32m      2\u001b[0m main()\n\u001b[0;32m      3\u001b[0m \u001b[38;5;28;01mimport\u001b[39;00m \u001b[38;5;21;01mtest\u001b[39;00m\n\u001b[1;32m----> 4\u001b[0m \u001b[38;5;28mprint\u001b[39m(\u001b[38;5;124m\"\u001b[39m\u001b[38;5;124mFrom test.py module\u001b[39m\u001b[38;5;124m\"\u001b[39m, \u001b[43mtest\u001b[49m\u001b[38;5;241;43m.\u001b[39;49m\u001b[43mtimes4\u001b[49m(\u001b[38;5;241m3\u001b[39m))\n",
      "\u001b[1;31mAttributeError\u001b[0m: module 'test' has no attribute 'times4'"
     ]
    }
   ],
   "source": [
    "if __name__ == \"__main__\":\n",
    "    main()\n",
    "    import test\n",
    "    print(\"From test.py module\", test.times4(3))"
   ]
  },
  {
   "cell_type": "code",
   "execution_count": 62,
   "id": "de47ed38",
   "metadata": {},
   "outputs": [
    {
     "name": "stdout",
     "output_type": "stream",
     "text": [
      "5\n"
     ]
    }
   ],
   "source": [
    "x = 5\n",
    "def f():\n",
    "    x = 15\n",
    "f()\n",
    "print(x)"
   ]
  },
  {
   "cell_type": "code",
   "execution_count": 64,
   "id": "5f8e06dc",
   "metadata": {},
   "outputs": [
    {
     "name": "stdout",
     "output_type": "stream",
     "text": [
      "required:  10 optional 1:  2 optional 2:  3\n",
      "required:  10 optional 1:  20 optional 2:  3\n",
      "required:  10 optional 1:  20 optional 2:  30\n"
     ]
    }
   ],
   "source": [
    "def example(required, optional1 = 2, optional2 = 3):\n",
    "    print(\"required: \", required, \"optional 1: \",optional1,\"optional 2: \",optional2)\n",
    "example(10)\n",
    "example(10, 20)\n",
    "example(10, 20, 30)\n"
   ]
  },
  {
   "cell_type": "code",
   "execution_count": 68,
   "id": "c0132a43",
   "metadata": {},
   "outputs": [
    {
     "name": "stdout",
     "output_type": "stream",
     "text": [
      "2   1.4142135623730951\n"
     ]
    }
   ],
   "source": [
    "import math\n",
    "funcs = [abs, math.sqrt]\n",
    "def example(functionArg, dataArg):\n",
    "    return functionArg(dataArg)\n",
    "print(example(funcs[0], -2), \" \",\n",
    "      example(funcs[1], 2))"
   ]
  },
  {
   "cell_type": "code",
   "execution_count": 79,
   "id": "ef3ae551",
   "metadata": {},
   "outputs": [
    {
     "name": "stdout",
     "output_type": "stream",
     "text": [
      "['23', '12']  :  [23, 12]\n"
     ]
    }
   ],
   "source": [
    "words = [\"23\" , \"12\"]\n",
    "numbers = list(map(int,words))\n",
    "print(words, \" : \", numbers)\n"
   ]
  },
  {
   "cell_type": "code",
   "execution_count": 87,
   "id": "2d823ca4",
   "metadata": {},
   "outputs": [
    {
     "name": "stdout",
     "output_type": "stream",
     "text": [
      "[1, 3, 5, 7, 9]\n"
     ]
    }
   ],
   "source": [
    "def odd(n): return n%2 == 1\n",
    "print(list(filter(odd, range(10))))"
   ]
  },
  {
   "cell_type": "code",
   "execution_count": 97,
   "id": "26c96582",
   "metadata": {},
   "outputs": [
    {
     "name": "stdout",
     "output_type": "stream",
     "text": [
      "15\n"
     ]
    }
   ],
   "source": [
    "from functools import reduce\n",
    "def add(x, y): return x+y\n",
    "data = [1,2,3,4,5]\n",
    "print(reduce(add, data))"
   ]
  },
  {
   "cell_type": "code",
   "execution_count": 98,
   "id": "b8ebd35b",
   "metadata": {},
   "outputs": [
    {
     "name": "stdout",
     "output_type": "stream",
     "text": [
      "6\n"
     ]
    }
   ],
   "source": [
    "data = [1, 2, 3]\n",
    "print(reduce(lambda x, y: x+y, data))"
   ]
  },
  {
   "cell_type": "code",
   "execution_count": null,
   "id": "f9c123f0",
   "metadata": {},
   "outputs": [],
   "source": []
  }
 ],
 "metadata": {
  "kernelspec": {
   "display_name": "Python 3 (ipykernel)",
   "language": "python",
   "name": "python3"
  },
  "language_info": {
   "codemirror_mode": {
    "name": "ipython",
    "version": 3
   },
   "file_extension": ".py",
   "mimetype": "text/x-python",
   "name": "python",
   "nbconvert_exporter": "python",
   "pygments_lexer": "ipython3",
   "version": "3.9.6"
  }
 },
 "nbformat": 4,
 "nbformat_minor": 5
}
